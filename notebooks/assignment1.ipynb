{
 "cells": [
  {
   "cell_type": "code",
   "execution_count": 1,
   "metadata": {},
   "outputs": [],
   "source": [
    "%reload_ext autoreload\n",
    "%autoreload 2\n",
    "%matplotlib inline"
   ]
  },
  {
   "cell_type": "code",
   "execution_count": 2,
   "metadata": {},
   "outputs": [
    {
     "name": "stderr",
     "output_type": "stream",
     "text": [
      "/home/djulien/.local/lib/python3.6/site-packages/sklearn/ensemble/weight_boosting.py:29: DeprecationWarning: numpy.core.umath_tests is an internal NumPy module and should not be imported. It will be removed in a future NumPy release.\n",
      "  from numpy.core.umath_tests import inner1d\n"
     ]
    }
   ],
   "source": [
    "from fastai.imports import *"
   ]
  },
  {
   "cell_type": "code",
   "execution_count": 3,
   "metadata": {},
   "outputs": [],
   "source": [
    "from fastai.transforms import *\n",
    "from fastai.conv_learner import *\n",
    "from fastai.model import *\n",
    "from fastai.dataset import *\n",
    "from fastai.sgdr import *\n",
    "from fastai.plots import *"
   ]
  },
  {
   "cell_type": "code",
   "execution_count": 6,
   "metadata": {},
   "outputs": [],
   "source": [
    "arch=resnet34\n",
    "PATH = \"../../data/dogbreeds/\"\n",
    "sz=224"
   ]
  },
  {
   "cell_type": "code",
   "execution_count": 7,
   "metadata": {},
   "outputs": [
    {
     "data": {
      "text/plain": [
       "['train', 'labels.csv', '.ipynb_checkpoints', 'test']"
      ]
     },
     "execution_count": 7,
     "metadata": {},
     "output_type": "execute_result"
    }
   ],
   "source": [
    "os.listdir(PATH)"
   ]
  },
  {
   "cell_type": "code",
   "execution_count": 8,
   "metadata": {},
   "outputs": [
    {
     "data": {
      "text/plain": [
       "['f1705303b30da3a48db2a5f34376b947.jpg',\n",
       " 'a9b79809bc1301f8d148e15bfecf6485.jpg',\n",
       " 'cc94a3bb7191a247f59e1540d8430c93.jpg',\n",
       " 'f7b489a38302afc010d8a386a1b7d085.jpg',\n",
       " '6e21c96226078576342ca66e25eb1aa9.jpg']"
      ]
     },
     "execution_count": 8,
     "metadata": {},
     "output_type": "execute_result"
    }
   ],
   "source": [
    "files = os.listdir(f'{PATH}test')[:5]\n",
    "files"
   ]
  },
  {
   "cell_type": "code",
   "execution_count": 21,
   "metadata": {},
   "outputs": [],
   "source": [
    "data  =  ImageClassifierData.from_csv(PATH, 'train', f'{PATH}labels.csv', tfms=tfms_from_model(arch, sz), suffix='.jpg', test_name='test', val_idxs=get_cv_idxs(10222))"
   ]
  },
  {
   "cell_type": "code",
   "execution_count": 22,
   "metadata": {},
   "outputs": [
    {
     "name": "stdout",
     "output_type": "stream",
     "text": [
      "100%|██████████| 162/162 [00:59<00:00,  2.63it/s]\n"
     ]
    }
   ],
   "source": [
    "learn  =  ConvLearner.pretrained(arch, data, precompute=True)"
   ]
  },
  {
   "cell_type": "code",
   "execution_count": 28,
   "metadata": {},
   "outputs": [
    {
     "data": {
      "application/vnd.jupyter.widget-view+json": {
       "model_id": "8e4a4eca079c4b5b923ba5fc40bd749f",
       "version_major": 2,
       "version_minor": 0
      },
      "text/plain": [
       "HBox(children=(IntProgress(value=0, description='Epoch', max=10), HTML(value='')))"
      ]
     },
     "metadata": {},
     "output_type": "display_data"
    },
    {
     "name": "stdout",
     "output_type": "stream",
     "text": [
      "epoch      trn_loss   val_loss   accuracy   \n",
      "    0      0.106099   0.556001   0.844423  \n",
      "    1      0.101396   0.558788   0.844423  \n",
      "    2      0.104018   0.559076   0.84638   \n",
      "    3      0.112899   0.55886    0.844423  \n",
      "    4      0.107195   0.554676   0.845401  \n",
      "    5      0.105711   0.556669   0.847358  \n",
      "    6      0.098947   0.556796   0.844912  \n",
      "    7      0.111147   0.561504   0.847358  \n",
      "    8      0.105806   0.560517   0.844423  \n",
      "    9      0.102107   0.556721   0.84638   \n",
      "\n"
     ]
    },
    {
     "data": {
      "text/plain": [
       "[array([0.55672]), 0.8463796478661539]"
      ]
     },
     "execution_count": 28,
     "metadata": {},
     "output_type": "execute_result"
    }
   ],
   "source": [
    "learn.fit(0.001, 10)"
   ]
  },
  {
   "cell_type": "code",
   "execution_count": 31,
   "metadata": {},
   "outputs": [],
   "source": [
    "log_preds, y = learn.predict_with_targs(is_test=True) # use test dataset rather than validation dataset\n",
    "probs = np.exp(log_preds)"
   ]
  },
  {
   "cell_type": "code",
   "execution_count": 32,
   "metadata": {},
   "outputs": [
    {
     "data": {
      "text/plain": [
       "(10357, 120)"
      ]
     },
     "execution_count": 32,
     "metadata": {},
     "output_type": "execute_result"
    }
   ],
   "source": [
    "probs.shape"
   ]
  },
  {
   "cell_type": "code",
   "execution_count": 33,
   "metadata": {},
   "outputs": [],
   "source": [
    "df=pd.DataFrame(probs)\n",
    "df.columns=data.classes"
   ]
  },
  {
   "cell_type": "code",
   "execution_count": 35,
   "metadata": {},
   "outputs": [],
   "source": [
    "df.insert(0, 'id', [o[5:-4] for o in data.test_ds.fnames])"
   ]
  },
  {
   "cell_type": "code",
   "execution_count": 36,
   "metadata": {},
   "outputs": [
    {
     "data": {
      "text/html": [
       "<div>\n",
       "<style scoped>\n",
       "    .dataframe tbody tr th:only-of-type {\n",
       "        vertical-align: middle;\n",
       "    }\n",
       "\n",
       "    .dataframe tbody tr th {\n",
       "        vertical-align: top;\n",
       "    }\n",
       "\n",
       "    .dataframe thead th {\n",
       "        text-align: right;\n",
       "    }\n",
       "</style>\n",
       "<table border=\"1\" class=\"dataframe\">\n",
       "  <thead>\n",
       "    <tr style=\"text-align: right;\">\n",
       "      <th></th>\n",
       "      <th>id</th>\n",
       "      <th>affenpinscher</th>\n",
       "      <th>afghan_hound</th>\n",
       "      <th>african_hunting_dog</th>\n",
       "      <th>airedale</th>\n",
       "      <th>american_staffordshire_terrier</th>\n",
       "      <th>appenzeller</th>\n",
       "      <th>australian_terrier</th>\n",
       "      <th>basenji</th>\n",
       "      <th>basset</th>\n",
       "      <th>...</th>\n",
       "      <th>toy_poodle</th>\n",
       "      <th>toy_terrier</th>\n",
       "      <th>vizsla</th>\n",
       "      <th>walker_hound</th>\n",
       "      <th>weimaraner</th>\n",
       "      <th>welsh_springer_spaniel</th>\n",
       "      <th>west_highland_white_terrier</th>\n",
       "      <th>whippet</th>\n",
       "      <th>wire-haired_fox_terrier</th>\n",
       "      <th>yorkshire_terrier</th>\n",
       "    </tr>\n",
       "  </thead>\n",
       "  <tbody>\n",
       "    <tr>\n",
       "      <th>0</th>\n",
       "      <td>f1705303b30da3a48db2a5f34376b947</td>\n",
       "      <td>2.403968e-08</td>\n",
       "      <td>1.305394e-06</td>\n",
       "      <td>2.153659e-07</td>\n",
       "      <td>5.044334e-03</td>\n",
       "      <td>1.422208e-06</td>\n",
       "      <td>5.234767e-09</td>\n",
       "      <td>4.291563e-09</td>\n",
       "      <td>3.927096e-09</td>\n",
       "      <td>2.251603e-10</td>\n",
       "      <td>...</td>\n",
       "      <td>1.315987e-07</td>\n",
       "      <td>9.766988e-09</td>\n",
       "      <td>7.096321e-02</td>\n",
       "      <td>8.622334e-08</td>\n",
       "      <td>8.823345e-01</td>\n",
       "      <td>1.055724e-09</td>\n",
       "      <td>2.097464e-10</td>\n",
       "      <td>7.034335e-05</td>\n",
       "      <td>6.919243e-09</td>\n",
       "      <td>6.196209e-07</td>\n",
       "    </tr>\n",
       "    <tr>\n",
       "      <th>1</th>\n",
       "      <td>a9b79809bc1301f8d148e15bfecf6485</td>\n",
       "      <td>1.472832e-06</td>\n",
       "      <td>5.951112e-09</td>\n",
       "      <td>6.724267e-07</td>\n",
       "      <td>8.096612e-08</td>\n",
       "      <td>1.233882e-05</td>\n",
       "      <td>4.063248e-05</td>\n",
       "      <td>1.493946e-07</td>\n",
       "      <td>1.675789e-07</td>\n",
       "      <td>1.087841e-06</td>\n",
       "      <td>...</td>\n",
       "      <td>3.956308e-07</td>\n",
       "      <td>9.480037e-06</td>\n",
       "      <td>4.959707e-08</td>\n",
       "      <td>4.547112e-05</td>\n",
       "      <td>6.335005e-07</td>\n",
       "      <td>1.448883e-07</td>\n",
       "      <td>5.086103e-03</td>\n",
       "      <td>2.872194e-08</td>\n",
       "      <td>2.421804e-06</td>\n",
       "      <td>4.546511e-08</td>\n",
       "    </tr>\n",
       "    <tr>\n",
       "      <th>2</th>\n",
       "      <td>cc94a3bb7191a247f59e1540d8430c93</td>\n",
       "      <td>7.373529e-07</td>\n",
       "      <td>2.019878e-06</td>\n",
       "      <td>1.870293e-07</td>\n",
       "      <td>4.210785e-07</td>\n",
       "      <td>2.706899e-08</td>\n",
       "      <td>1.964585e-03</td>\n",
       "      <td>4.154167e-08</td>\n",
       "      <td>5.953831e-07</td>\n",
       "      <td>9.020866e-07</td>\n",
       "      <td>...</td>\n",
       "      <td>3.809958e-07</td>\n",
       "      <td>1.169502e-08</td>\n",
       "      <td>1.014059e-08</td>\n",
       "      <td>5.802526e-07</td>\n",
       "      <td>9.295457e-09</td>\n",
       "      <td>3.596765e-06</td>\n",
       "      <td>1.633958e-07</td>\n",
       "      <td>5.513422e-08</td>\n",
       "      <td>1.444288e-06</td>\n",
       "      <td>3.499455e-08</td>\n",
       "    </tr>\n",
       "    <tr>\n",
       "      <th>3</th>\n",
       "      <td>f7b489a38302afc010d8a386a1b7d085</td>\n",
       "      <td>2.223638e-08</td>\n",
       "      <td>1.445175e-07</td>\n",
       "      <td>1.057081e-08</td>\n",
       "      <td>3.365675e-08</td>\n",
       "      <td>3.081015e-08</td>\n",
       "      <td>5.883090e-04</td>\n",
       "      <td>7.644393e-10</td>\n",
       "      <td>4.298176e-08</td>\n",
       "      <td>2.021486e-07</td>\n",
       "      <td>...</td>\n",
       "      <td>8.001535e-08</td>\n",
       "      <td>1.670598e-11</td>\n",
       "      <td>5.742578e-10</td>\n",
       "      <td>2.749782e-07</td>\n",
       "      <td>2.787007e-09</td>\n",
       "      <td>2.716514e-06</td>\n",
       "      <td>7.716279e-09</td>\n",
       "      <td>1.138912e-07</td>\n",
       "      <td>1.299805e-08</td>\n",
       "      <td>6.234877e-10</td>\n",
       "    </tr>\n",
       "    <tr>\n",
       "      <th>4</th>\n",
       "      <td>6e21c96226078576342ca66e25eb1aa9</td>\n",
       "      <td>2.562899e-04</td>\n",
       "      <td>1.150846e-05</td>\n",
       "      <td>4.304947e-07</td>\n",
       "      <td>1.197078e-05</td>\n",
       "      <td>1.113106e-06</td>\n",
       "      <td>5.263109e-07</td>\n",
       "      <td>6.161175e-08</td>\n",
       "      <td>2.204639e-07</td>\n",
       "      <td>8.792846e-08</td>\n",
       "      <td>...</td>\n",
       "      <td>2.233461e-08</td>\n",
       "      <td>2.375298e-09</td>\n",
       "      <td>8.667836e-06</td>\n",
       "      <td>1.793426e-07</td>\n",
       "      <td>3.813821e-06</td>\n",
       "      <td>1.017577e-06</td>\n",
       "      <td>3.814022e-07</td>\n",
       "      <td>1.962067e-06</td>\n",
       "      <td>1.754131e-06</td>\n",
       "      <td>7.748250e-06</td>\n",
       "    </tr>\n",
       "  </tbody>\n",
       "</table>\n",
       "<p>5 rows × 121 columns</p>\n",
       "</div>"
      ],
      "text/plain": [
       "                                 id  affenpinscher  afghan_hound  \\\n",
       "0  f1705303b30da3a48db2a5f34376b947   2.403968e-08  1.305394e-06   \n",
       "1  a9b79809bc1301f8d148e15bfecf6485   1.472832e-06  5.951112e-09   \n",
       "2  cc94a3bb7191a247f59e1540d8430c93   7.373529e-07  2.019878e-06   \n",
       "3  f7b489a38302afc010d8a386a1b7d085   2.223638e-08  1.445175e-07   \n",
       "4  6e21c96226078576342ca66e25eb1aa9   2.562899e-04  1.150846e-05   \n",
       "\n",
       "   african_hunting_dog      airedale  american_staffordshire_terrier  \\\n",
       "0         2.153659e-07  5.044334e-03                    1.422208e-06   \n",
       "1         6.724267e-07  8.096612e-08                    1.233882e-05   \n",
       "2         1.870293e-07  4.210785e-07                    2.706899e-08   \n",
       "3         1.057081e-08  3.365675e-08                    3.081015e-08   \n",
       "4         4.304947e-07  1.197078e-05                    1.113106e-06   \n",
       "\n",
       "    appenzeller  australian_terrier       basenji        basset  \\\n",
       "0  5.234767e-09        4.291563e-09  3.927096e-09  2.251603e-10   \n",
       "1  4.063248e-05        1.493946e-07  1.675789e-07  1.087841e-06   \n",
       "2  1.964585e-03        4.154167e-08  5.953831e-07  9.020866e-07   \n",
       "3  5.883090e-04        7.644393e-10  4.298176e-08  2.021486e-07   \n",
       "4  5.263109e-07        6.161175e-08  2.204639e-07  8.792846e-08   \n",
       "\n",
       "         ...            toy_poodle   toy_terrier        vizsla  walker_hound  \\\n",
       "0        ...          1.315987e-07  9.766988e-09  7.096321e-02  8.622334e-08   \n",
       "1        ...          3.956308e-07  9.480037e-06  4.959707e-08  4.547112e-05   \n",
       "2        ...          3.809958e-07  1.169502e-08  1.014059e-08  5.802526e-07   \n",
       "3        ...          8.001535e-08  1.670598e-11  5.742578e-10  2.749782e-07   \n",
       "4        ...          2.233461e-08  2.375298e-09  8.667836e-06  1.793426e-07   \n",
       "\n",
       "     weimaraner  welsh_springer_spaniel  west_highland_white_terrier  \\\n",
       "0  8.823345e-01            1.055724e-09                 2.097464e-10   \n",
       "1  6.335005e-07            1.448883e-07                 5.086103e-03   \n",
       "2  9.295457e-09            3.596765e-06                 1.633958e-07   \n",
       "3  2.787007e-09            2.716514e-06                 7.716279e-09   \n",
       "4  3.813821e-06            1.017577e-06                 3.814022e-07   \n",
       "\n",
       "        whippet  wire-haired_fox_terrier  yorkshire_terrier  \n",
       "0  7.034335e-05             6.919243e-09       6.196209e-07  \n",
       "1  2.872194e-08             2.421804e-06       4.546511e-08  \n",
       "2  5.513422e-08             1.444288e-06       3.499455e-08  \n",
       "3  1.138912e-07             1.299805e-08       6.234877e-10  \n",
       "4  1.962067e-06             1.754131e-06       7.748250e-06  \n",
       "\n",
       "[5 rows x 121 columns]"
      ]
     },
     "execution_count": 36,
     "metadata": {},
     "output_type": "execute_result"
    }
   ],
   "source": [
    "df.head()"
   ]
  },
  {
   "cell_type": "code",
   "execution_count": 37,
   "metadata": {},
   "outputs": [],
   "source": [
    "SUBM = f'../../out/'\n",
    "os.makedirs(SUBM, exist_ok=True)\n",
    "df.to_csv(f'{SUBM}dogbreeds_simple.gz', compression='gzip', index=False)"
   ]
  },
  {
   "cell_type": "code",
   "execution_count": null,
   "metadata": {},
   "outputs": [],
   "source": []
  }
 ],
 "metadata": {
  "kernelspec": {
   "display_name": "Python 3",
   "language": "python",
   "name": "python3"
  },
  "language_info": {
   "codemirror_mode": {
    "name": "ipython",
    "version": 3
   },
   "file_extension": ".py",
   "mimetype": "text/x-python",
   "name": "python",
   "nbconvert_exporter": "python",
   "pygments_lexer": "ipython3",
   "version": "3.6.6"
  }
 },
 "nbformat": 4,
 "nbformat_minor": 2
}
